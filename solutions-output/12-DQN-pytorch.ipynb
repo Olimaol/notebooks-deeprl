{
 "cells": [
  {
   "cell_type": "markdown",
   "id": "4bde7077",
   "metadata": {
    "colab_type": "text",
    "id": "view-in-github"
   },
   "source": [
    "<a href=\"https://colab.research.google.com/github/Olimaol/notebooks-deeprl/blob/main/solutions-output/12-DQN-pytorch.ipynb\" target=\"_blank\"><img src=\"https://colab.research.google.com/assets/colab-badge.svg\" alt=\"Open In Colab\"/></a>"
   ]
  },
  {
   "cell_type": "markdown",
   "metadata": {},
   "source": [
    "# DQN in pytorch\n",
    "\n",
    "The goal of this exercise is to implement DQN using pytorch and to apply it to the cartpole balancing problem. \n",
    "\n",
    "The code is adapted from the Pytorch tutorial: <https://pytorch.org/tutorials/intermediate/reinforcement_q_learning.html>."
   ]
  },
  {
   "cell_type": "code",
   "execution_count": 1,
   "metadata": {
    "execution": {
     "iopub.execute_input": "2025-10-09T09:26:17.653647Z",
     "iopub.status.busy": "2025-10-09T09:26:17.653469Z",
     "iopub.status.idle": "2025-10-09T09:26:17.657731Z",
     "shell.execute_reply": "2025-10-09T09:26:17.657156Z"
    }
   },
   "outputs": [],
   "source": [
    "try:\n",
    "    import google.colab\n",
    "    IN_COLAB = True\n",
    "except:\n",
    "    IN_COLAB = False\n",
    "\n",
    "if IN_COLAB:\n",
    "    !pip install -U gymnasium pygame swig\n",
    "    !pip install moviepy==1.0.3\n"
   ]
  },
  {
   "cell_type": "code",
   "execution_count": 2,
   "metadata": {
    "execution": {
     "iopub.execute_input": "2025-10-09T09:26:17.659392Z",
     "iopub.status.busy": "2025-10-09T09:26:17.659224Z",
     "iopub.status.idle": "2025-10-09T09:26:19.397118Z",
     "shell.execute_reply": "2025-10-09T09:26:19.396445Z"
    }
   },
   "outputs": [
    {
     "name": "stdout",
     "output_type": "stream",
     "text": [
      "gym version: 1.2.1\n"
     ]
    },
    {
     "name": "stdout",
     "output_type": "stream",
     "text": [
      "Device: cpu\n"
     ]
    }
   ],
   "source": [
    "# Default libraries\n",
    "import math\n",
    "import random\n",
    "import os\n",
    "import time\n",
    "import numpy as np\n",
    "rng = np.random.default_rng()\n",
    "import matplotlib.pyplot as plt\n",
    "from collections import namedtuple, deque\n",
    "\n",
    "# Gymnasium\n",
    "import gymnasium as gym\n",
    "print(\"gym version:\", gym.__version__)\n",
    "\n",
    "# pytorch\n",
    "import torch\n",
    "import torch.nn.functional as F\n",
    "\n",
    "# Select hardware: \n",
    "if torch.cuda.is_available(): # GPU\n",
    "    device = torch.device(\"cuda\")\n",
    "elif torch.backends.mps.is_available(): # Metal (Macos)\n",
    "    device = torch.device(\"mps\")\n",
    "else: # CPU\n",
    "    device = torch.device(\"cpu\")\n",
    "print(f\"Device: {device}\")"
   ]
  },
  {
   "cell_type": "code",
   "execution_count": 3,
   "metadata": {
    "execution": {
     "iopub.execute_input": "2025-10-09T09:26:19.398942Z",
     "iopub.status.busy": "2025-10-09T09:26:19.398678Z",
     "iopub.status.idle": "2025-10-09T09:26:19.862431Z",
     "shell.execute_reply": "2025-10-09T09:26:19.861747Z"
    }
   },
   "outputs": [],
   "source": [
    "from moviepy.editor import ImageSequenceClip\n",
    "from IPython.display import Image, display\n",
    "\n",
    "class GymRecorder(object):\n",
    "    \"\"\"\n",
    "    Simple wrapper over moviepy to generate a .gif with the frames of a gym environment.\n",
    "    \n",
    "    The environment must have the render_mode `rgb_array_list`.\n",
    "    \"\"\"\n",
    "    def __init__(self, env):\n",
    "        self.env = env\n",
    "        self._frames = []\n",
    "\n",
    "    def record(self, frames):\n",
    "        \"To be called at the end of an episode.\"\n",
    "        for frame in frames:\n",
    "            self._frames.append(np.array(frame))\n",
    "\n",
    "    def make_video(self, filename, show=True):\n",
    "        \"Generates the gif video.\"\n",
    "        directory = os.path.dirname(os.path.abspath(filename))\n",
    "        if not os.path.exists(directory):\n",
    "            os.mkdir(directory)\n",
    "        self.clip = ImageSequenceClip(list(self._frames), fps=self.env.metadata[\"render_fps\"])\n",
    "        self.clip.write_gif(filename, fps=self.env.metadata[\"render_fps\"], loop=0)\n",
    "        del self._frames\n",
    "        self._frames = []\n",
    "        if show:\n",
    "            display(Image(filename=filename))"
   ]
  },
  {
   "cell_type": "markdown",
   "metadata": {},
   "source": [
    "## Cartpole balancing task\n",
    "\n",
    "We are going to use the Cartpole balancing problem, which can be loaded with:\n",
    "\n",
    "```python\n",
    "gym.make('CartPole-v0', render_mode=\"rgb_array_list\")\n",
    "```\n",
    "\n",
    "States have 4 continuous values (position and speed of the cart, angle and speed of the pole) and 2 discrete outputs (going left or right). The reward is +1 for each transition where the pole is still standing (angle of less than 30° with the vertical). \n",
    "\n",
    "In CartPole-v0, the episode ends when the pole fails or after 200 steps. In CartPole-v1, the maximum episode length is 500 steps, which is too long for us, so we stick to v0 here.\n",
    "\n",
    "The maximal (undiscounted) return is therefore 200. Can DQN learn this?"
   ]
  },
  {
   "cell_type": "code",
   "execution_count": 4,
   "metadata": {
    "execution": {
     "iopub.execute_input": "2025-10-09T09:26:19.864680Z",
     "iopub.status.busy": "2025-10-09T09:26:19.864355Z",
     "iopub.status.idle": "2025-10-09T09:26:20.179429Z",
     "shell.execute_reply": "2025-10-09T09:26:20.178884Z"
    }
   },
   "outputs": [
    {
     "name": "stdout",
     "output_type": "stream",
     "text": [
      "Return: 12.0\n",
      "MoviePy - Building file videos/cartpole_random.gif with imageio.\n"
     ]
    },
    {
     "name": "stderr",
     "output_type": "stream",
     "text": [
      "\r",
      "t:   0%|          | 0/13 [00:00<?, ?it/s, now=None]"
     ]
    },
    {
     "name": "stderr",
     "output_type": "stream",
     "text": [
      "\r",
      "                                                   "
     ]
    },
    {
     "name": "stderr",
     "output_type": "stream",
     "text": [
      "\r"
     ]
    },
    {
     "data": {
      "image/gif": "[encoded data removed]",
      "text/plain": [
       "<IPython.core.display.Image object>"
      ]
     },
     "metadata": {},
     "output_type": "display_data"
    }
   ],
   "source": [
    "# Create the environment\n",
    "env = gym.make('CartPole-v0', render_mode=\"rgb_array_list\")\n",
    "recorder = GymRecorder(env)\n",
    "\n",
    "# Sample the initial state\n",
    "state, info = env.reset()\n",
    "\n",
    "# One episode:\n",
    "done = False\n",
    "return_episode = 0\n",
    "while not done:\n",
    "\n",
    "    # Select an action randomly\n",
    "    action = env.action_space.sample()\n",
    "    \n",
    "    # Sample a single transition\n",
    "    next_state, reward, terminal, truncated, info = env.step(action)\n",
    "\n",
    "    # End of the episode\n",
    "    done = terminal or truncated\n",
    "\n",
    "    # Update undiscounted return\n",
    "    return_episode += reward\n",
    "    \n",
    "    # Go in the next state\n",
    "    state = next_state\n",
    "\n",
    "print(\"Return:\", return_episode)\n",
    "recorder.record(env.render())\n",
    "\n",
    "recorder.make_video(\"videos/cartpole_random.gif\")"
   ]
  },
  {
   "cell_type": "markdown",
   "metadata": {},
   "source": [
    "## Value network in pytorch\n",
    "\n",
    "As the state in Cartpole has only four dimensions, we do not need a CNN for the value network. A simple MLP with a couple of hidden layers will be enough.\n",
    "\n",
    "**Q:** Create a MLP class in pytorch taking four inputs and two outputs (one Q-value per action), and two hidden layers of 128 neurons (you can change it later). If possible, make it parameterizable, i.e. have the constructor take in the number of inputs, outputs and hidden neurons. The activation function for the hidden layers should be ReLU."
   ]
  },
  {
   "cell_type": "code",
   "execution_count": 5,
   "metadata": {
    "execution": {
     "iopub.execute_input": "2025-10-09T09:26:20.181143Z",
     "iopub.status.busy": "2025-10-09T09:26:20.180961Z",
     "iopub.status.idle": "2025-10-09T09:26:20.184955Z",
     "shell.execute_reply": "2025-10-09T09:26:20.184347Z"
    }
   },
   "outputs": [],
   "source": [
    "# Solution:\n",
    "class MLP(torch.nn.Module):\n",
    "    \"Value network for DQN on Cartpole.\"\n",
    "\n",
    "    def __init__(self, nb_observations, nb_hidden1, nb_hidden2, nb_actions):\n",
    "        super(MLP, self).__init__()\n",
    "        \n",
    "        # Layers\n",
    "        self.fc1 = torch.nn.Linear(nb_observations, nb_hidden1)\n",
    "        self.fc2 = torch.nn.Linear(nb_hidden1, nb_hidden2)\n",
    "        self.fc3 = torch.nn.Linear(nb_hidden2, nb_actions)\n",
    "\n",
    "    def forward(self, x):\n",
    "\n",
    "        x = F.relu(self.fc1(x))\n",
    "        x = F.relu(self.fc2(x))\n",
    "        x = self.fc3(x)\n",
    "        \n",
    "        return x"
   ]
  },
  {
   "cell_type": "markdown",
   "metadata": {},
   "source": [
    "**Q:** Create a network, an environment, get the initial state using `env.reset()` and pass it to the network to obtain the Q-values.\n",
    "Consider the following:\n",
    "* the returned state from `env.reset()` is a NumPy array, but pytorch expects a tensor as input (usually with shape `(batch_size, num_features)`).\n",
    "* Further, The dtype must be set to `torch.float32` for floating numbers (and `torch.long` for integers).\n",
    "* Optionally, also add a batch dimension using `.unsqueeze(0)`.\n",
    "* You can transform a NumPy array, as described, using the following command `nice_tensor = torch.tensor(<array>, dtype=torch.float32).unsqueeze(0)`.\n",
    "* the network and data should be sent to the same device (see Pytorch exercise). You can use `.to(device)` to send them to the correct device. If you use `torch.tensor()` to create the tensor, you can also pass the device as argument: `torch.tensor(<array>, dtype=torch.float32, device=device)`.\n",
    "\n",
    "Create the network using something like:\n",
    "\n",
    "```python\n",
    "net = MLP(...).to(device)\n",
    "```\n",
    "\n",
    "Pass the state tensor to your network. What is the shape of the output tensor?"
   ]
  },
  {
   "cell_type": "code",
   "execution_count": 6,
   "metadata": {
    "execution": {
     "iopub.execute_input": "2025-10-09T09:26:20.186610Z",
     "iopub.status.busy": "2025-10-09T09:26:20.186442Z",
     "iopub.status.idle": "2025-10-09T09:26:20.194952Z",
     "shell.execute_reply": "2025-10-09T09:26:20.194444Z"
    }
   },
   "outputs": [
    {
     "name": "stdout",
     "output_type": "stream",
     "text": [
      "[0.04458024 0.00889646 0.03967638 0.01768046]\n",
      "tensor([[0.0446, 0.0089, 0.0397, 0.0177]]) torch.Size([1, 4])\n",
      "tensor([[ 0.0429, -0.0247]], grad_fn=<AddmmBackward0>) torch.Size([1, 2])\n"
     ]
    }
   ],
   "source": [
    "# Solution:\n",
    "# Create the environment\n",
    "env = gym.make('CartPole-v0')\n",
    "\n",
    "# Create the value network and send it to the correct device\n",
    "net = MLP(env.observation_space.shape[0], 128, 128, env.action_space.n).to(device)\n",
    "\n",
    "# Sample the initial state as a numpy array\n",
    "state, info = env.reset()\n",
    "print(state)\n",
    "\n",
    "# Transform the state, send it to the device, and add a batch dimension\n",
    "state = torch.tensor(state, dtype=torch.float32, device=device).unsqueeze(0)\n",
    "\n",
    "# Predict the Q-values from the initial state\n",
    "Q_values = net(state)\n",
    "\n",
    "print(state, state.shape)     # state as tensor\n",
    "print(Q_values, Q_values.shape)  # Q-values for each action"
   ]
  },
  {
   "cell_type": "markdown",
   "metadata": {},
   "source": [
    "The value network outputs one Q-value per action, great. Now, let's identify the **greedy** action, i.e. the one with the highest Q-value. The two actions expected by the cartpole environment are 0 and 1, i.e. the index of the element with the highest Q-value as a Python integer. \n",
    "\n",
    "Have a look at those two methods of `Tensor`:\n",
    "\n",
    "* ``Tensor.argmax``: <https://pytorch.org/docs/stable/generated/torch.argmax.html>\n",
    "* ``Tensor.item``: <https://pytorch.org/docs/stable/generated/torch.Tensor.item.html>\n",
    "\n",
    "**Q:** Find a way to obtain the index (as a Python integer) of the element with the highest value in the tensor of Q-values. Check that it works. "
   ]
  },
  {
   "cell_type": "code",
   "execution_count": 7,
   "metadata": {
    "execution": {
     "iopub.execute_input": "2025-10-09T09:26:20.196541Z",
     "iopub.status.busy": "2025-10-09T09:26:20.196374Z",
     "iopub.status.idle": "2025-10-09T09:26:20.199664Z",
     "shell.execute_reply": "2025-10-09T09:26:20.199179Z"
    }
   },
   "outputs": [
    {
     "name": "stdout",
     "output_type": "stream",
     "text": [
      "Greedy action: 0\n"
     ]
    }
   ],
   "source": [
    "# Solution:\n",
    "greedy_action = Q_values.argmax().item()\n",
    "print(f\"Greedy action: {greedy_action}\")"
   ]
  },
  {
   "cell_type": "markdown",
   "metadata": {},
   "source": [
    "**Q:** Create a dummy agent class (as in the previous exercises) storing a value network and acting using $\\epsilon$-greedy action selection. Add a ``test()``method running a few episodes and possibly recording them. \n",
    "\n",
    "The constructor should accept several hyperparameters, such as the `config` dictionary in the following skeleton:\n",
    "\n",
    "```python\n",
    "class RandomDQNAgent:\n",
    "    def __init__(self, env, config):\n",
    "    def act(self, state):\n",
    "    def test(self, nb_episodes, recorder=None):\n",
    "```\n",
    "\n",
    "but feel free to pass the hyperparameters one by one.\n",
    "\n",
    "To prepare ourselves, implement a schedule for `epsilon` in the `act()` method: epsilon should start at a high value of 0.9 and decrease exponentially to 0.05 for each action made. The value of epsilon follows this formula:\n",
    "\n",
    "$$\n",
    "    \\epsilon = 0.05 + (0.9 - 0.05) * \\exp ( - \\dfrac{t}{1000})\n",
    "$$\n",
    "\n",
    "where t is the number of steps since the start. 0.05, 0.9 and 1000 should be parameters of the class."
   ]
  },
  {
   "cell_type": "code",
   "execution_count": 8,
   "metadata": {
    "execution": {
     "iopub.execute_input": "2025-10-09T09:26:20.201201Z",
     "iopub.status.busy": "2025-10-09T09:26:20.201007Z",
     "iopub.status.idle": "2025-10-09T09:26:20.207684Z",
     "shell.execute_reply": "2025-10-09T09:26:20.207186Z"
    }
   },
   "outputs": [],
   "source": [
    "# Solution:\n",
    "class RandomDQNAgent:\n",
    "    \"\"\"\n",
    "    Random deep Q-learning agent.\n",
    "    \"\"\"\n",
    "    \n",
    "    def __init__(self, env, config):\n",
    "\n",
    "        self.env = env\n",
    "        self.config = config\n",
    "        self.epsilon = self.config['eps_start']\n",
    "\n",
    "        # Number of actions\n",
    "        self.n_actions = self.env.action_space.n\n",
    "\n",
    "        # Number of states\n",
    "        self.state, info = self.env.reset()\n",
    "        self.n_observations = len(self.state)\n",
    "\n",
    "        # Value network\n",
    "        self.value_net = MLP(self.n_observations, config['nb_hidden'], config['nb_hidden'], self.n_actions).to(device)\n",
    "\n",
    "        self.steps_done = 0\n",
    "        \n",
    "    \n",
    "    def act(self, state):\n",
    "        \"Returns an action using epsilon-greedy action selection.\"\n",
    "\n",
    "        # Decay epsilon exponentially\n",
    "        self.epsilon = self.config['eps_end'] + (self.config['eps_start'] - self.config['eps_end']) * math.exp(-1. * self.steps_done / self.config['eps_decay'])\n",
    "\n",
    "        # Keep track of time\n",
    "        self.steps_done += 1\n",
    "    \n",
    "        # epsilon-greedy action selection\n",
    "        if rng.random() < self.epsilon:\n",
    "            return self.env.action_space.sample()\n",
    "        else:\n",
    "            with torch.no_grad():\n",
    "                return self.value_net(state).argmax().item()\n",
    "\n",
    "    \n",
    "    def test(self, nb_episodes, recorder=None):\n",
    "        \"Performs a test episode without exploration.\"\n",
    "        previous_epsilon = self.epsilon\n",
    "        self.epsilon = 0.0\n",
    "\n",
    "        for episode in range(nb_episodes):\n",
    "        \n",
    "            # Reset\n",
    "            state, _ = self.env.reset()\n",
    "            state = torch.tensor(state, dtype=torch.float32, device=device)\n",
    "\n",
    "            # Sample the episode\n",
    "            done = False\n",
    "            return_episode = 0\n",
    "            while not done:                \n",
    "                action = self.act(state)\n",
    "                next_state, reward, terminal, truncated, info = self.env.step(action)\n",
    "                return_episode += reward\n",
    "                done = terminal or truncated\n",
    "                state = torch.tensor(next_state, dtype=torch.float32, device=device)\n",
    "\n",
    "            print(f\"Episode {episode}: return {return_episode}, epsilon: {self.epsilon:.4f}\")\n",
    "            \n",
    "        self.epsilon = previous_epsilon\n",
    "            \n",
    "        if recorder is not None:\n",
    "            recorder.record(self.env.render())\n"
   ]
  },
  {
   "cell_type": "code",
   "execution_count": 9,
   "metadata": {
    "execution": {
     "iopub.execute_input": "2025-10-09T09:26:20.209229Z",
     "iopub.status.busy": "2025-10-09T09:26:20.209031Z",
     "iopub.status.idle": "2025-10-09T09:26:21.130405Z",
     "shell.execute_reply": "2025-10-09T09:26:21.129840Z"
    }
   },
   "outputs": [
    {
     "name": "stdout",
     "output_type": "stream",
     "text": [
      "Episode 0: return 13.0, epsilon: 0.8899\n",
      "Episode 1: return 31.0, epsilon: 0.8642\n",
      "Episode 2: return 31.0, epsilon: 0.8394\n"
     ]
    },
    {
     "name": "stdout",
     "output_type": "stream",
     "text": [
      "Episode 3: return 67.0, epsilon: 0.7882\n",
      "Episode 4: return 45.0, epsilon: 0.7557\n",
      "Episode 5: return 13.0, epsilon: 0.7466\n",
      "Episode 6: return 12.0, epsilon: 0.7383\n",
      "Episode 7: return 15.0, epsilon: 0.7281\n"
     ]
    },
    {
     "name": "stdout",
     "output_type": "stream",
     "text": [
      "Episode 8: return 34.0, epsilon: 0.7054\n",
      "Episode 9: return 19.0, epsilon: 0.6931\n",
      "MoviePy - Building file videos/cartpole-random2.gif with imageio.\n"
     ]
    },
    {
     "name": "stderr",
     "output_type": "stream",
     "text": [
      "\r",
      "t:   0%|          | 0/20 [00:00<?, ?it/s, now=None]"
     ]
    },
    {
     "name": "stderr",
     "output_type": "stream",
     "text": [
      "\r",
      "                                                   "
     ]
    },
    {
     "name": "stderr",
     "output_type": "stream",
     "text": [
      "\r"
     ]
    },
    {
     "data": {
      "image/gif": "[encoded data removed]",
      "text/plain": [
       "<IPython.core.display.Image object>"
      ]
     },
     "metadata": {},
     "output_type": "display_data"
    }
   ],
   "source": [
    "# Solution:\n",
    "# Create the environment\n",
    "env = gym.make('CartPole-v0', render_mode=\"rgb_array_list\")\n",
    "recorder = GymRecorder(env)\n",
    "\n",
    "# Hyperparameters\n",
    "config = {}\n",
    "config['nb_hidden'] = 128 # number of hidden neurons in each layer\n",
    "config['eps_start'] = 0.9 # starting value of epsilon\n",
    "config['eps_end'] = 0.05 # final value of epsilon\n",
    "config['eps_decay'] = 1000 # rate of exponential decay of epsilon, higher means a slower decay\n",
    "\n",
    "# Create the agent\n",
    "agent = RandomDQNAgent(env, config)\n",
    "\n",
    "# Make 10 evaluation episodes\n",
    "agent.test(10, recorder)\n",
    "\n",
    "recorder.make_video(\"videos/cartpole-random2.gif\")"
   ]
  },
  {
   "cell_type": "markdown",
   "metadata": {},
   "source": [
    "## Target network\n",
    "\n",
    "The original DQN algorithm implies two neural networks:\n",
    "\n",
    "1. The value network $Q_\\theta(s, a)$, learning to predict the Q-values for the current state.\n",
    "2. The target network $Q_{\\theta'}(s, a)$, used to predict the Q-values in the next state.\n",
    "\n",
    "The target network is a copy of the value network (in terms of structure and parameters), but the update occurs only from time to time.\n",
    "\n",
    "**Q:** Create two MLPs of the same size and predict the Q-values of a single state. What happens?"
   ]
  },
  {
   "cell_type": "code",
   "execution_count": 10,
   "metadata": {
    "execution": {
     "iopub.execute_input": "2025-10-09T09:26:21.132187Z",
     "iopub.status.busy": "2025-10-09T09:26:21.131959Z",
     "iopub.status.idle": "2025-10-09T09:26:21.139891Z",
     "shell.execute_reply": "2025-10-09T09:26:21.139372Z"
    }
   },
   "outputs": [
    {
     "name": "stdout",
     "output_type": "stream",
     "text": [
      "tensor([[0.0835, 0.0332]], grad_fn=<AddmmBackward0>) torch.Size([1, 2])\n",
      "tensor([[-0.0094, -0.0227]], grad_fn=<AddmmBackward0>) torch.Size([1, 2])\n"
     ]
    }
   ],
   "source": [
    "# Solution:\n",
    "# Create the environment\n",
    "env = gym.make('CartPole-v0')\n",
    "\n",
    "# Create the value network\n",
    "value_net = MLP(env.observation_space.shape[0], 128, 128, env.action_space.n).to(device)\n",
    "\n",
    "# Create the target network\n",
    "target_net = MLP(env.observation_space.shape[0], 128, 128, env.action_space.n).to(device)\n",
    "\n",
    "# Sample the initial state\n",
    "state, _ = env.reset()\n",
    "\n",
    "# Cast the state to a tensor\n",
    "state = torch.tensor(state, dtype=torch.float32, device=device).unsqueeze(0)\n",
    "\n",
    "# Predict the Q-values for both networks\n",
    "Q_value = value_net(state)\n",
    "Q_target = target_net(state)\n",
    "\n",
    "print(Q_value, Q_value.shape)\n",
    "print(Q_target, Q_target.shape)"
   ]
  },
  {
   "cell_type": "markdown",
   "metadata": {},
   "source": [
    "Obviously, the two MLPs are initialized using random parameters, so they are different. We need a method to copy the weights of a network into another one. \n",
    "\n",
    "It is fortunately very easy to save/load the parameters of a pytorch network:\n",
    "\n",
    "```python\n",
    "params = net.state_dict()\n",
    "net.load_state_dict(params)\n",
    "```\n",
    "\n",
    "**Q:** Apply these methods to update the weights of the target network with the value one. Check that they now predict the same thing."
   ]
  },
  {
   "cell_type": "code",
   "execution_count": 11,
   "metadata": {
    "execution": {
     "iopub.execute_input": "2025-10-09T09:26:21.141487Z",
     "iopub.status.busy": "2025-10-09T09:26:21.141302Z",
     "iopub.status.idle": "2025-10-09T09:26:21.149102Z",
     "shell.execute_reply": "2025-10-09T09:26:21.148489Z"
    }
   },
   "outputs": [
    {
     "name": "stdout",
     "output_type": "stream",
     "text": [
      "tensor([[0.0575, 0.1468]], grad_fn=<AddmmBackward0>) torch.Size([1, 2])\n",
      "tensor([[0.0575, 0.1468]], grad_fn=<AddmmBackward0>) torch.Size([1, 2])\n"
     ]
    }
   ],
   "source": [
    "# Solution:\n",
    "# Create the environment\n",
    "env = gym.make('CartPole-v0')\n",
    "\n",
    "# Create the value network\n",
    "value_net = MLP(env.observation_space.shape[0], 128, 128, env.action_space.n).to(device)\n",
    "\n",
    "# Create the target network\n",
    "target_net = MLP(env.observation_space.shape[0], 128, 128, env.action_space.n).to(device)\n",
    "\n",
    "# Update the target network\n",
    "target_net.load_state_dict(value_net.state_dict())\n",
    "\n",
    "# Sample the initial state\n",
    "state, _ = env.reset()\n",
    "\n",
    "# Cast the state to a tensor\n",
    "state = torch.tensor(state, dtype=torch.float32, device=device).unsqueeze(0)\n",
    "\n",
    "# Predict the Q-values for both networks\n",
    "Q_value = value_net(state)\n",
    "Q_target = target_net(state)\n",
    "\n",
    "print(Q_value, Q_value.shape)\n",
    "print(Q_target, Q_target.shape)"
   ]
  },
  {
   "cell_type": "markdown",
   "metadata": {},
   "source": [
    "## Experience Replay Memory\n",
    "\n",
    "The second important component of DQN is the experience replay memory (ERM) or replay buffer. It is a limited size buffer that can store $(s, a, r, s', d)$ transitions, where $d$ is a boolean indicating whether the next state $s'$ is terminal or not (in gymnasium, this is the boolean `done = terminal or truncated`).\n",
    "\n",
    "Below is a simple implementation of an ERM. The important data structure here is `deque` (double-ended queue) which behaves like a list when `append()` is called, until its capacity is reached (`maxlen`), in which case new elements overwrite older ones. \n",
    "\n",
    "`batch = sample(batch_size)` randomly samples a minibatch from the ERM and returns a structure of $(s, a, r, s', d)$ transitions, nicely casted into pytorch tensors. These tensors are accessed with `batch.state`, `batch.action`, etc."
   ]
  },
  {
   "cell_type": "code",
   "execution_count": 12,
   "metadata": {
    "execution": {
     "iopub.execute_input": "2025-10-09T09:26:21.150767Z",
     "iopub.status.busy": "2025-10-09T09:26:21.150583Z",
     "iopub.status.idle": "2025-10-09T09:26:21.156483Z",
     "shell.execute_reply": "2025-10-09T09:26:21.155847Z"
    }
   },
   "outputs": [],
   "source": [
    "# Named tuples are fancy dictionaries\n",
    "Transition = namedtuple('Transition', ('states', 'actions', 'rewards', 'next_states', 'dones'))\n",
    "\n",
    "class ReplayMemory(object):\n",
    "    \"Simple Experience Replay Memory using uniform sampling.\"\n",
    "\n",
    "    def __init__(self, capacity):\n",
    "        self.memory = deque([], maxlen=capacity)\n",
    "\n",
    "    def append(self, state, action, reward, next_state, done):\n",
    "        \"Appends a transition (s, a, r, s', done) to the buffer.\"\n",
    "\n",
    "        # Get numpy arrays even if it is a torch tensor\n",
    "        if isinstance(state, (torch.Tensor,)): state = state.numpy(force=True)\n",
    "        if isinstance(next_state, (torch.Tensor,)): next_state = next_state.numpy(force=True)\n",
    "        \n",
    "        # Append to the buffer\n",
    "        self.memory.append(Transition(state, action, reward, next_state, done))\n",
    "\n",
    "    def sample(self, batch_size):\n",
    "        \"Returns a minibatch of (s, a, r, s', done)\"\n",
    "\n",
    "        # Sample the batch\n",
    "        transitions = random.sample(self.memory, batch_size)\n",
    "        \n",
    "        # Transpose the batch.\n",
    "        batch = Transition(*zip(*transitions))\n",
    "        \n",
    "        # Cast to tensors\n",
    "        states = torch.tensor(batch.states, dtype=torch.float32, device=device)\n",
    "        actions = torch.tensor(batch.actions, dtype=torch.long, device=device)\n",
    "        rewards = torch.tensor(batch.rewards, dtype=torch.float32, device=device)\n",
    "        next_states = torch.tensor(batch.next_states, dtype=torch.float32, device=device)\n",
    "        dones = torch.tensor(batch.dones, dtype=torch.bool, device=device)\n",
    "\n",
    "        return Transition(states, actions, rewards, next_states, dones)\n",
    "\n",
    "    def __len__(self):\n",
    "        return len(self.memory)"
   ]
  },
  {
   "cell_type": "markdown",
   "metadata": {},
   "source": [
    "**Q:** Modify your random DQN agent so that it stores a replay buffer of capacity 10000 and appends all transitions into it. Do a few episodes, sample a small minibatch and have a look at the data you obtain."
   ]
  },
  {
   "cell_type": "code",
   "execution_count": 13,
   "metadata": {
    "execution": {
     "iopub.execute_input": "2025-10-09T09:26:21.158197Z",
     "iopub.status.busy": "2025-10-09T09:26:21.157991Z",
     "iopub.status.idle": "2025-10-09T09:26:21.164772Z",
     "shell.execute_reply": "2025-10-09T09:26:21.164120Z"
    }
   },
   "outputs": [],
   "source": [
    "# Solution:\n",
    "class RandomDQNAgent:\n",
    "    \"\"\"\n",
    "    Random deep Q-learning agent with memory.\n",
    "    \"\"\"\n",
    "    \n",
    "    def __init__(self, env, config):\n",
    "\n",
    "        self.env = env\n",
    "        self.config = config\n",
    "        self.epsilon = self.config['eps_start']\n",
    "\n",
    "        # Number of actions\n",
    "        self.n_actions = self.env.action_space.n\n",
    "\n",
    "        # Number of states\n",
    "        self.state, info = self.env.reset()\n",
    "        self.n_observations = len(self.state)\n",
    "\n",
    "        # Value network\n",
    "        self.value_net = MLP(self.n_observations, config['nb_hidden'], config['nb_hidden'], self.n_actions).to(device)\n",
    "\n",
    "        # Replay buffer\n",
    "        self.memory = ReplayMemory(capacity=1000)\n",
    "\n",
    "        self.steps_done = 0\n",
    "        \n",
    "    \n",
    "    def act(self, state):\n",
    "        \"Returns an action using epsilon-greedy action selection.\"\n",
    "\n",
    "        # Decay epsilon exponentially\n",
    "        self.epsilon = self.config['eps_end'] + (self.config['eps_start'] - self.config['eps_end']) * math.exp(-1. * self.steps_done / self.config['eps_decay'])\n",
    "\n",
    "        # Keep track of time\n",
    "        self.steps_done += 1\n",
    "    \n",
    "        # epsilon-greedy action selection\n",
    "        if rng.random() < self.epsilon:\n",
    "            return self.env.action_space.sample()\n",
    "        else:\n",
    "            with torch.no_grad():\n",
    "                return self.value_net(state).argmax().item()\n",
    "\n",
    "    \n",
    "    def test(self, nb_episodes, recorder=None):\n",
    "        \"Performs a test episode without exploration.\"\n",
    "        previous_epsilon = self.epsilon\n",
    "        self.epsilon = 0.0\n",
    "\n",
    "        for episode in range(nb_episodes):\n",
    "        \n",
    "            # Reset\n",
    "            state, _ = self.env.reset()\n",
    "            state = torch.tensor(state, dtype=torch.float32, device=device)\n",
    "\n",
    "            # Sample the episode\n",
    "            done = False\n",
    "            return_episode = 0\n",
    "            while not done:                \n",
    "                action = self.act(state)\n",
    "                next_state, reward, terminal, truncated, info = self.env.step(action)\n",
    "                return_episode += reward\n",
    "                done = terminal or truncated\n",
    "                \n",
    "                # Append the transition to the replay buffer\n",
    "                self.memory.append(state, action, reward, next_state, done)\n",
    "\n",
    "                state = torch.tensor(next_state, dtype=torch.float32, device=device)\n",
    "\n",
    "            print(f\"Episode {episode}: return {return_episode}, epsilon: {self.epsilon:.4f}\")\n",
    "            \n",
    "        self.epsilon = previous_epsilon\n",
    "            \n",
    "        if recorder is not None:\n",
    "            recorder.record(self.env.render())\n"
   ]
  },
  {
   "cell_type": "code",
   "execution_count": 14,
   "metadata": {
    "execution": {
     "iopub.execute_input": "2025-10-09T09:26:21.166476Z",
     "iopub.status.busy": "2025-10-09T09:26:21.166296Z",
     "iopub.status.idle": "2025-10-09T09:26:21.185368Z",
     "shell.execute_reply": "2025-10-09T09:26:21.184664Z"
    }
   },
   "outputs": [
    {
     "name": "stdout",
     "output_type": "stream",
     "text": [
      "Episode 0: return 28.0, epsilon: 0.8774\n",
      "Episode 1: return 63.0, epsilon: 0.8268\n",
      "Episode 2: return 17.0, epsilon: 0.8137\n",
      "Episode 3: return 20.0, epsilon: 0.7986\n",
      "Episode 4: return 19.0, epsilon: 0.7845\n",
      "Episode 5: return 10.0, epsilon: 0.7772\n",
      "Episode 6: return 10.0, epsilon: 0.7700\n",
      "Episode 7: return 11.0, epsilon: 0.7621\n",
      "Episode 8: return 16.0, epsilon: 0.7508\n",
      "Episode 9: return 11.0, epsilon: 0.7431\n"
     ]
    }
   ],
   "source": [
    "# Solution:\n",
    "# Create the environment\n",
    "env = gym.make('CartPole-v0')\n",
    "\n",
    "# Hyperparameters\n",
    "config = {}\n",
    "config['nb_hidden'] = 128 # number of hidden neurons in each layer\n",
    "config['eps_start'] = 0.9 # starting value of epsilon\n",
    "config['eps_end'] = 0.05 # final value of epsilon\n",
    "config['eps_decay'] = 1000 # rate of exponential decay of epsilon, higher means a slower decay\n",
    "config['buffer_limit'] = 1000 # maximum number of transitions in the replay buffer\n",
    "\n",
    "# Create the agent\n",
    "agent = RandomDQNAgent(env, config)\n",
    "\n",
    "# Make 10 evaluation episodes\n",
    "agent.test(10)"
   ]
  },
  {
   "cell_type": "code",
   "execution_count": 15,
   "metadata": {
    "execution": {
     "iopub.execute_input": "2025-10-09T09:26:21.187087Z",
     "iopub.status.busy": "2025-10-09T09:26:21.186879Z",
     "iopub.status.idle": "2025-10-09T09:26:21.193557Z",
     "shell.execute_reply": "2025-10-09T09:26:21.193004Z"
    }
   },
   "outputs": [
    {
     "name": "stdout",
     "output_type": "stream",
     "text": [
      "States: torch.Size([10, 4]) tensor([[-9.8586e-03, -3.8289e-02,  1.1315e-02,  1.8353e-03],\n",
      "        [-3.6510e-02,  6.0409e-01, -3.2505e-05, -8.4429e-01],\n",
      "        [ 1.9189e-02,  5.2411e-01,  3.0443e-02, -3.6992e-01],\n",
      "        [ 5.7185e-02,  9.9057e-01, -1.1136e-01, -1.4719e+00],\n",
      "        [-3.2022e-02, -3.7651e-01,  6.0499e-03,  6.1092e-01],\n",
      "        [-1.4347e-02,  4.0249e-01, -1.0342e-02, -5.2700e-01],\n",
      "        [-2.3833e-02,  3.7676e-01, -2.8994e-02, -6.7214e-01],\n",
      "        [ 2.8438e-02,  3.4300e-01,  2.0063e-02, -5.7591e-01],\n",
      "        [-8.2391e-03, -3.8974e-02,  1.2031e-03,  1.6935e-02],\n",
      "        [ 2.7020e-03,  5.7366e-01, -7.5808e-02, -1.0063e+00]])\n",
      "Actions: torch.Size([10]) tensor([1, 1, 1, 1, 1, 1, 1, 0, 0, 1])\n",
      "Rewards: torch.Size([10]) tensor([1., 1., 1., 1., 1., 1., 1., 1., 1., 1.])\n",
      "Next states: torch.Size([10, 4]) tensor([[-1.0624e-02,  1.5667e-01,  1.1352e-02, -2.8726e-01],\n",
      "        [-2.4428e-02,  7.9921e-01, -1.6918e-02, -1.1370e+00],\n",
      "        [ 2.9671e-02,  7.1879e-01,  2.3044e-02, -6.5285e-01],\n",
      "        [ 7.6996e-02,  1.1869e+00, -1.4080e-01, -1.7971e+00],\n",
      "        [-3.9552e-02, -1.8147e-01,  1.8268e-02,  3.2015e-01],\n",
      "        [-6.2972e-03,  5.9776e-01, -2.0881e-02, -8.2292e-01],\n",
      "        [-1.6298e-02,  5.7227e-01, -4.2437e-02, -9.7381e-01],\n",
      "        [ 3.5298e-02,  1.4760e-01,  8.5452e-03, -2.7698e-01],\n",
      "        [-9.0185e-03, -2.3411e-01,  1.5418e-03,  3.1000e-01],\n",
      "        [ 1.4175e-02,  7.6971e-01, -9.5933e-02, -1.3218e+00]])\n",
      "Dones: torch.Size([10]) tensor([False, False, False, False, False, False, False, False, False, False])\n"
     ]
    }
   ],
   "source": [
    "# Solution:\n",
    "# Sample the ERM\n",
    "batch = agent.memory.sample(10)\n",
    "\n",
    "print(\"States:\", batch.states.shape, batch.states)\n",
    "print(\"Actions:\", batch.actions.shape, batch.actions)\n",
    "print(\"Rewards:\", batch.rewards.shape, batch.rewards)\n",
    "print(\"Next states:\", batch.next_states.shape, batch.next_states)\n",
    "print(\"Dones:\", batch.dones.shape, batch.dones)"
   ]
  },
  {
   "cell_type": "markdown",
   "metadata": {},
   "source": [
    "**Q:** Use the value network stored into your agent to predict the Q-values of all actions for the states contained in the minibatch. Do NOT use a for loop. Check the size of the resulting tensor. "
   ]
  },
  {
   "cell_type": "code",
   "execution_count": 16,
   "metadata": {
    "execution": {
     "iopub.execute_input": "2025-10-09T09:26:21.195148Z",
     "iopub.status.busy": "2025-10-09T09:26:21.194949Z",
     "iopub.status.idle": "2025-10-09T09:26:21.199179Z",
     "shell.execute_reply": "2025-10-09T09:26:21.198580Z"
    }
   },
   "outputs": [
    {
     "name": "stdout",
     "output_type": "stream",
     "text": [
      "torch.Size([10, 2])\n",
      "tensor([[-0.1272,  0.0775],\n",
      "        [-0.1431,  0.1396],\n",
      "        [-0.1143,  0.1076],\n",
      "        [-0.1751,  0.1723],\n",
      "        [-0.1067,  0.0628],\n",
      "        [-0.1303,  0.1189],\n",
      "        [-0.1367,  0.1300],\n",
      "        [-0.1324,  0.1158],\n",
      "        [-0.1260,  0.0766],\n",
      "        [-0.1541,  0.1479]], grad_fn=<AddmmBackward0>)\n"
     ]
    }
   ],
   "source": [
    "# Solution:\n",
    "Q_values = agent.value_net(batch.states)\n",
    "\n",
    "print(Q_values.shape)\n",
    "print(Q_values)"
   ]
  },
  {
   "cell_type": "markdown",
   "metadata": {},
   "source": [
    "**Q:** The previous tensor returns the value of all actions in those visited states. We now want only the Q-value of action that was taken (whose index is in `batch.actions`). The resulting tensor should therefore a vector of length `batch_size`. How do we do that?\n",
    "\n",
    "*Hint:* it would take months of practice to master all the indexing methods available in pytorch: <https://pytorch.org/docs/stable/torch.html#indexing-slicing-joining>. Meanwhile, numpy-style indexing could be useful. Check what the following statements do:\n",
    "\n",
    "```python\n",
    "N = 10\n",
    "A = torch.randn((N, 2))\n",
    "B = torch.randint(0, 2, (N,))\n",
    "C = A[range(N), B]\n",
    "```"
   ]
  },
  {
   "cell_type": "code",
   "execution_count": 17,
   "metadata": {
    "execution": {
     "iopub.execute_input": "2025-10-09T09:26:21.200881Z",
     "iopub.status.busy": "2025-10-09T09:26:21.200675Z",
     "iopub.status.idle": "2025-10-09T09:26:21.205699Z",
     "shell.execute_reply": "2025-10-09T09:26:21.205213Z"
    }
   },
   "outputs": [
    {
     "name": "stdout",
     "output_type": "stream",
     "text": [
      "tensor([[-0.1272,  0.0775],\n",
      "        [-0.1431,  0.1396],\n",
      "        [-0.1143,  0.1076],\n",
      "        [-0.1751,  0.1723],\n",
      "        [-0.1067,  0.0628],\n",
      "        [-0.1303,  0.1189],\n",
      "        [-0.1367,  0.1300],\n",
      "        [-0.1324,  0.1158],\n",
      "        [-0.1260,  0.0766],\n",
      "        [-0.1541,  0.1479]], grad_fn=<AddmmBackward0>)\n",
      "tensor([1, 1, 1, 1, 1, 1, 1, 0, 0, 1])\n",
      "tensor([ 0.0775,  0.1396,  0.1076,  0.1723,  0.0628,  0.1189,  0.1300, -0.1324,\n",
      "        -0.1260,  0.1479], grad_fn=<IndexBackward0>)\n"
     ]
    }
   ],
   "source": [
    "# Solution:\n",
    "print(Q_values)\n",
    "print(batch.actions)\n",
    "Q_taken = Q_values[range(10), batch.actions]\n",
    "print(Q_taken)"
   ]
  },
  {
   "cell_type": "markdown",
   "metadata": {},
   "source": [
    "## DQN agent\n",
    "\n",
    "Good, we should now have all the elementary bricks to create our DQN agent. \n",
    "\n",
    "Reminder from the lecture:\n",
    "\n",
    "---\n",
    "\n",
    "* Initialize value network $Q_{\\theta}$ and target network $Q_{\\theta'}$.\n",
    "\n",
    "* Initialize experience replay memory $\\mathcal{D}$ of maximal size $N$.\n",
    "\n",
    "* for $t \\in [0, T_\\text{total}]$:\n",
    "\n",
    "    * Select an action $a_t$ based on $Q_\\theta(s_t, a)$ ($\\epsilon$-greedy), observe $s_{t+1}$ and $r_{t+1}$.\n",
    "\n",
    "    * Store $(s_t, a_t, r_{t+1}, s_{t+1})$ in the experience replay memory.\n",
    "\n",
    "    * Every $T_\\text{train}$ steps:\n",
    "\n",
    "        * Sample a minibatch $\\mathcal{D}_s$ randomly from $\\mathcal{D}$.\n",
    "\n",
    "        * For each transition $(s_k, a_k, r_k, s'_k)$ in the minibatch:\n",
    "\n",
    "            * Compute the target value $t_k = r_k + \\gamma \\, \\max_{a'} Q_{\\theta'}(s'_k, a')$ using the target network.\n",
    "\n",
    "        * Update the value network $Q_{\\theta}$ on $\\mathcal{D}_s$ to minimize:\n",
    "\n",
    "    $$\\mathcal{L}(\\theta) = \\mathbb{E}_{\\mathcal{D}_s}[(t_k - Q_\\theta(s_k, a_k))^2]$$\n",
    "\n",
    "    * Every $T_\\text{target}$ steps:\n",
    "\n",
    "        * Update target network: $\\theta' \\leftarrow \\theta$.\n",
    "---\n",
    "\n",
    "Create a DQN agent class inspired from the notebooks on MC or TD. The constructor should create the value and target networks, and make sure that their parameters are the same. It also creates an empty replay buffer. \n",
    "\n",
    "The `act()` method implements $\\epsilon$-greedy action selection, with an exponentially decaying schedule for $\\epsilon$. The greedy action is read from the value network.\n",
    "\n",
    "The `train()` and `test()` methods run training and test episodes as usual, with optional rendering. The train method should return (or store in the object) the return of each episode (its length) so we can plot it at the end. \n",
    "\n",
    "The main difficulty will be the `update()` method, where learning is supposed to happen. It should sample a minibatch from the replay memory, compute a vector of Bellman targets $r_t + \\gamma \\, \\max_a Q(s_{t+1}, a)$ for each transition in the batch, compute the loss function (mse between these targets and the predicted Q-values), backpropagate the gradients and apply the optimizer (Adam, but feel free to pick your preferred optimizer). Refer to the previous notebook on pytorch if you do not know how to do that.\n",
    "\n",
    "The main tricky part is when $V(s_{t+1})$ has to be predicted by the **target** network. You do not want the target network to learn from the minibatch, so it should not compute the corresponding gradients to save computational time. You can make sure that the target network is purely in inference mode with the following context:\n",
    "\n",
    "```python\n",
    "with torch.no_grad():\n",
    "    next_Q_values = target_net(batch.next_states)\n",
    "```\n",
    "\n",
    "Of course you want the Q-value of the greedy action in the next state, not the vector of all Q-values, so check the doc of `Tensor.max()`. \n",
    "\n",
    "Importantly, when the next state $s'$ is terminal (either the agent failed or the 200 steps are over), the Bellman target should be simply $r_t$ instead of $r_t + \\gamma \\, \\max_a Q(s_{t+1}, a)$, as no action will be taken in the next state. This is why we saved the booleans `done` were saved in the replay buffer. As they are boolean, you can use them for indexing:\n",
    "\n",
    "```python\n",
    "Q = torch.randn((batch_size,))\n",
    "Q[batch.dones] = 0.0\n",
    "```\n",
    "\n",
    "A minor detail: do not start learning until the replay buffer is full enough, otherwise you will not fill your minibatch. Usually, there is no learning until the buffer contains two or three times the batch size. Use `len(memory)` to know the current number of stored transitions.\n",
    "\n",
    "Here is a set of suggested hyperparameters to help you start. Of course, it is strongly advised to modify them and observe their influence, but it depends on the remaining time.\n",
    "\n",
    "* $\\gamma = 0.99$.\n",
    "* MLP with two layers of 128 neurons, Adam optimizer with a fixed learning rate of 0.001.\n",
    "* Replay buffer of maximum capacity 10000, batch size of 128.\n",
    "* Target network updated every 120 steps.\n",
    "* Epsilon-greedy action selection, with the schedule:\n",
    "\n",
    "$$\n",
    "    \\epsilon = 0.05 + (0.9 - 0.05) * \\exp ( - \\dfrac{t}{1000})\n",
    "$$\n",
    "\n",
    "where $t$ is the total number of steps.\n",
    "\n",
    "\n",
    "**Q:** Train a DQN on cartpole for 250 episodes. How would you characterize the learning process (speed, stability, etc.). If possible, do several runs. Vary the hyperparameters."
   ]
  },
  {
   "cell_type": "code",
   "execution_count": 18,
   "metadata": {
    "execution": {
     "iopub.execute_input": "2025-10-09T09:26:21.207278Z",
     "iopub.status.busy": "2025-10-09T09:26:21.207093Z",
     "iopub.status.idle": "2025-10-09T09:26:21.216859Z",
     "shell.execute_reply": "2025-10-09T09:26:21.216347Z"
    }
   },
   "outputs": [],
   "source": [
    "# Solution:\n",
    "class DQNAgent:\n",
    "    \"DQN agent.\"\n",
    "    \n",
    "    def __init__(self, env, config):\n",
    "\n",
    "        # Parameters\n",
    "        self.env = env\n",
    "        self.config = config\n",
    "\n",
    "        # Number of actions\n",
    "        self.n_actions = self.env.action_space.n\n",
    "\n",
    "        # Number of states\n",
    "        self.state, info = self.env.reset()\n",
    "        self.n_observations = len(self.state)\n",
    "\n",
    "        # Value network\n",
    "        self.value_net = MLP(self.n_observations, config['nb_hidden'], config['nb_hidden'], self.n_actions).to(device)\n",
    "\n",
    "        # Target network\n",
    "        self.target_net = MLP(self.n_observations, config['nb_hidden'], config['nb_hidden'], self.n_actions).to(device)\n",
    "\n",
    "        # Copy the value weights into the target network\n",
    "        self.target_net.load_state_dict(self.value_net.state_dict())\n",
    "\n",
    "        # Optimizer\n",
    "        self.optimizer = torch.optim.Adam(self.value_net.parameters(), lr=self.config['learning_rate'])\n",
    "\n",
    "        # Loss function\n",
    "        self.loss_function = torch.nn.MSELoss()\n",
    "        \n",
    "        # Replay buffer\n",
    "        self.memory = ReplayMemory(self.config['buffer_limit'])\n",
    "\n",
    "        self.steps_done = 0\n",
    "        self.episode_durations = []\n",
    "\n",
    "\n",
    "    def act(self, state):\n",
    "\n",
    "        # Decay epsilon exponentially\n",
    "        self.epsilon = self.config['eps_end'] + (self.config['eps_start'] - self.config['eps_end']) * math.exp(-1. * self.steps_done / self.config['eps_decay'])\n",
    "\n",
    "        # Keep track of time\n",
    "        self.steps_done += 1\n",
    "    \n",
    "        # epsilon-greedy action selection\n",
    "        if rng.random() < self.epsilon:\n",
    "            return self.env.action_space.sample()\n",
    "        else:\n",
    "            with torch.no_grad():\n",
    "                return self.value_net(state).argmax(dim=0).item()\n",
    "\n",
    "    def update(self):\n",
    "\n",
    "        # Only learn when the replay buffer is full enough\n",
    "        if len(self.memory) < 2 * self.config['batch_size']:\n",
    "            return\n",
    "        \n",
    "        # Sample a batch\n",
    "        batch = self.memory.sample(self.config['batch_size'])\n",
    "\n",
    "        # Compute Q(s_t, a) with the current value network.\n",
    "        Q_values = self.value_net(batch.states)[range(self.config['batch_size']), batch.actions]\n",
    "        \n",
    "        # Compute Q(s_{t+1}, a*) for all next states.\n",
    "        # If the next state is terminal, set the value to zero.\n",
    "        # Do not compute gradients.\n",
    "        with torch.no_grad():\n",
    "            next_Q_values = self.target_net(batch.next_states).max(dim=1).values\n",
    "            next_Q_values[batch.dones] = 0.0\n",
    "\n",
    "        # Compute the target Q values\n",
    "        targets = (next_Q_values * self.config['gamma']) + batch.rewards\n",
    "\n",
    "        # Compute loss\n",
    "        loss = self.loss_function(Q_values, targets)\n",
    "\n",
    "        # Reinitialize the gradients\n",
    "        self.optimizer.zero_grad()\n",
    "\n",
    "        # Backpropagation\n",
    "        loss.backward()\n",
    "\n",
    "        # In-place gradient clipping (optional)\n",
    "        #torch.nn.utils.clip_grad_value_(self.value_net.parameters(), 100)\n",
    "\n",
    "        # Optimizer step\n",
    "        self.optimizer.step()\n",
    "\n",
    "    def train(self, num_episodes):\n",
    "        \n",
    "        for i_episode in range(num_episodes):\n",
    "\n",
    "            tstart = time.time()\n",
    "\n",
    "            # Initialize the environment and get its state\n",
    "            state, _ = self.env.reset()\n",
    "\n",
    "            # Transform the state into a tensor\n",
    "            state = torch.tensor(state, dtype=torch.float32, device=device)\n",
    "\n",
    "            done = False\n",
    "            steps_episode = 0\n",
    "            while not done:\n",
    "                \n",
    "                # Select an action\n",
    "                action = self.act(state)\n",
    "                \n",
    "                # Perform the action\n",
    "                next_state, reward, terminated, truncated, _ = self.env.step(action)\n",
    "                \n",
    "                # Terminal state\n",
    "                done = terminated or truncated\n",
    "\n",
    "                # Store the transition in memory\n",
    "                self.memory.append(state, action, reward, next_state, done)\n",
    "\n",
    "                # Move to the next state\n",
    "                state = torch.tensor(next_state, dtype=torch.float32, device=device)\n",
    "\n",
    "                # Perform one step of the optimization (on the policy network)\n",
    "                self.update()\n",
    "\n",
    "                # Update of the target network's weights\n",
    "                if self.steps_done % self.config['target_update_period'] == 0:\n",
    "                    self.target_net.load_state_dict(self.value_net.state_dict())\n",
    "\n",
    "                # Finish episode\n",
    "                steps_episode += 1\n",
    "                if done:\n",
    "                    self.episode_durations.append(steps_episode)\n",
    "                    print(f\"Episode {i_episode+1}, duration {steps_episode}, epsilon {self.epsilon:.4f} done in {time.time() - tstart}\")"
   ]
  },
  {
   "cell_type": "code",
   "execution_count": 19,
   "metadata": {
    "execution": {
     "iopub.execute_input": "2025-10-09T09:26:21.218440Z",
     "iopub.status.busy": "2025-10-09T09:26:21.218272Z",
     "iopub.status.idle": "2025-10-09T09:27:38.518706Z",
     "shell.execute_reply": "2025-10-09T09:27:38.518119Z"
    }
   },
   "outputs": [
    {
     "name": "stdout",
     "output_type": "stream",
     "text": [
      "Episode 1, duration 13, epsilon 0.8899 done in 0.0013170242309570312\n",
      "Episode 2, duration 27, epsilon 0.8675 done in 0.0019588470458984375\n",
      "Episode 3, duration 38, epsilon 0.8370 done in 0.0021452903747558594\n",
      "Episode 4, duration 21, epsilon 0.8207 done in 0.0017828941345214844\n",
      "Episode 5, duration 13, epsilon 0.8107 done in 0.0007145404815673828\n",
      "Episode 6, duration 16, epsilon 0.7986 done in 0.0011048316955566406\n",
      "Episode 7, duration 12, epsilon 0.7897 done in 0.0006771087646484375\n",
      "Episode 8, duration 15, epsilon 0.7787 done in 0.0008466243743896484\n",
      "Episode 9, duration 17, epsilon 0.7664 done in 0.0011718273162841797\n",
      "Episode 10, duration 16, epsilon 0.7550 done in 0.0011196136474609375\n",
      "Episode 11, duration 13, epsilon 0.7459 done in 0.0009295940399169922\n",
      "Episode 12, duration 13, epsilon 0.7369 done in 0.0008358955383300781\n",
      "Episode 13, duration 18, epsilon 0.7247 done in 0.000995635986328125\n",
      "Episode 14, duration 10, epsilon 0.7180 done in 0.0008766651153564453\n",
      "Episode 15, duration 31, epsilon 0.6976 done in 0.034860849380493164\n",
      "Episode 16, duration 22, epsilon 0.6835 done in 0.03893876075744629\n",
      "Episode 17, duration 13, epsilon 0.6753 done in 0.022802114486694336\n"
     ]
    },
    {
     "name": "stdout",
     "output_type": "stream",
     "text": [
      "Episode 18, duration 57, epsilon 0.6407 done in 0.10212945938110352\n",
      "Episode 19, duration 29, epsilon 0.6238 done in 0.05161166191101074\n",
      "Episode 20, duration 11, epsilon 0.6175 done in 0.019373655319213867\n",
      "Episode 21, duration 11, epsilon 0.6113 done in 0.019716739654541016\n",
      "Episode 22, duration 18, epsilon 0.6013 done in 0.03245139122009277\n",
      "Episode 23, duration 35, epsilon 0.5823 done in 0.0624234676361084\n"
     ]
    },
    {
     "name": "stdout",
     "output_type": "stream",
     "text": [
      "Episode 24, duration 10, epsilon 0.5770 done in 0.01868915557861328\n",
      "Episode 25, duration 10, epsilon 0.5718 done in 0.01819610595703125\n",
      "Episode 26, duration 10, epsilon 0.5666 done in 0.017847776412963867\n",
      "Episode 27, duration 12, epsilon 0.5604 done in 0.02120065689086914\n",
      "Episode 28, duration 21, epsilon 0.5498 done in 0.03752899169921875\n",
      "Episode 29, duration 11, epsilon 0.5443 done in 0.019932031631469727\n",
      "Episode 30, duration 13, epsilon 0.5380 done in 0.0235135555267334\n",
      "Episode 31, duration 18, epsilon 0.5293 done in 0.03266000747680664\n",
      "Episode 32, duration 15, epsilon 0.5221 done in 0.02704334259033203\n"
     ]
    },
    {
     "name": "stdout",
     "output_type": "stream",
     "text": [
      "Episode 33, duration 16, epsilon 0.5146 done in 0.030436277389526367\n",
      "Episode 34, duration 19, epsilon 0.5059 done in 0.03438448905944824\n",
      "Episode 35, duration 56, epsilon 0.4811 done in 0.10079741477966309\n",
      "Episode 36, duration 16, epsilon 0.4742 done in 0.028832674026489258\n"
     ]
    },
    {
     "name": "stdout",
     "output_type": "stream",
     "text": [
      "Episode 37, duration 49, epsilon 0.4539 done in 0.09007620811462402\n",
      "Episode 38, duration 19, epsilon 0.4463 done in 0.034131526947021484\n",
      "Episode 39, duration 18, epsilon 0.4393 done in 0.03288698196411133\n"
     ]
    },
    {
     "name": "stdout",
     "output_type": "stream",
     "text": [
      "Episode 40, duration 118, epsilon 0.3959 done in 0.21999073028564453\n",
      "Episode 41, duration 46, epsilon 0.3804 done in 0.08459281921386719\n"
     ]
    },
    {
     "name": "stdout",
     "output_type": "stream",
     "text": [
      "Episode 42, duration 140, epsilon 0.3372 done in 0.25904059410095215\n"
     ]
    },
    {
     "name": "stdout",
     "output_type": "stream",
     "text": [
      "Episode 43, duration 200, epsilon 0.2852 done in 0.3726358413696289\n",
      "Episode 44, duration 48, epsilon 0.2741 done in 0.09080076217651367\n"
     ]
    },
    {
     "name": "stdout",
     "output_type": "stream",
     "text": [
      "Episode 45, duration 200, epsilon 0.2335 done in 0.38110780715942383\n"
     ]
    },
    {
     "name": "stdout",
     "output_type": "stream",
     "text": [
      "Episode 46, duration 200, epsilon 0.2002 done in 0.3801577091217041\n"
     ]
    },
    {
     "name": "stdout",
     "output_type": "stream",
     "text": [
      "Episode 47, duration 200, epsilon 0.1730 done in 0.3795149326324463\n"
     ]
    },
    {
     "name": "stdout",
     "output_type": "stream",
     "text": [
      "Episode 48, duration 200, epsilon 0.1507 done in 0.38080549240112305\n"
     ]
    },
    {
     "name": "stdout",
     "output_type": "stream",
     "text": [
      "Episode 49, duration 155, epsilon 0.1362 done in 0.29812002182006836\n"
     ]
    },
    {
     "name": "stdout",
     "output_type": "stream",
     "text": [
      "Episode 50, duration 200, epsilon 0.1206 done in 0.38503050804138184\n"
     ]
    },
    {
     "name": "stdout",
     "output_type": "stream",
     "text": [
      "Episode 51, duration 200, epsilon 0.1078 done in 0.3858003616333008\n"
     ]
    },
    {
     "name": "stdout",
     "output_type": "stream",
     "text": [
      "Episode 52, duration 200, epsilon 0.0973 done in 0.38599395751953125\n"
     ]
    },
    {
     "name": "stdout",
     "output_type": "stream",
     "text": [
      "Episode 53, duration 200, epsilon 0.0888 done in 0.3857438564300537\n"
     ]
    },
    {
     "name": "stdout",
     "output_type": "stream",
     "text": [
      "Episode 54, duration 200, epsilon 0.0817 done in 0.38429737091064453\n"
     ]
    },
    {
     "name": "stdout",
     "output_type": "stream",
     "text": [
      "Episode 55, duration 200, epsilon 0.0760 done in 0.38439416885375977\n"
     ]
    },
    {
     "name": "stdout",
     "output_type": "stream",
     "text": [
      "Episode 56, duration 200, epsilon 0.0713 done in 0.38088083267211914\n"
     ]
    },
    {
     "name": "stdout",
     "output_type": "stream",
     "text": [
      "Episode 57, duration 200, epsilon 0.0674 done in 0.3798694610595703\n"
     ]
    },
    {
     "name": "stdout",
     "output_type": "stream",
     "text": [
      "Episode 58, duration 200, epsilon 0.0643 done in 0.37824225425720215\n"
     ]
    },
    {
     "name": "stdout",
     "output_type": "stream",
     "text": [
      "Episode 59, duration 200, epsilon 0.0617 done in 0.38077759742736816\n"
     ]
    },
    {
     "name": "stdout",
     "output_type": "stream",
     "text": [
      "Episode 60, duration 200, epsilon 0.0596 done in 0.37789034843444824\n"
     ]
    },
    {
     "name": "stdout",
     "output_type": "stream",
     "text": [
      "Episode 61, duration 200, epsilon 0.0578 done in 0.38310718536376953\n"
     ]
    },
    {
     "name": "stdout",
     "output_type": "stream",
     "text": [
      "Episode 62, duration 200, epsilon 0.0564 done in 0.3843722343444824\n"
     ]
    },
    {
     "name": "stdout",
     "output_type": "stream",
     "text": [
      "Episode 63, duration 200, epsilon 0.0552 done in 0.38727331161499023\n"
     ]
    },
    {
     "name": "stdout",
     "output_type": "stream",
     "text": [
      "Episode 64, duration 200, epsilon 0.0543 done in 0.38492250442504883\n"
     ]
    },
    {
     "name": "stdout",
     "output_type": "stream",
     "text": [
      "Episode 65, duration 200, epsilon 0.0535 done in 0.38335680961608887\n"
     ]
    },
    {
     "name": "stdout",
     "output_type": "stream",
     "text": [
      "Episode 66, duration 200, epsilon 0.0529 done in 0.38243556022644043\n"
     ]
    },
    {
     "name": "stdout",
     "output_type": "stream",
     "text": [
      "Episode 67, duration 200, epsilon 0.0524 done in 0.3821873664855957\n"
     ]
    },
    {
     "name": "stdout",
     "output_type": "stream",
     "text": [
      "Episode 68, duration 200, epsilon 0.0519 done in 0.3803079128265381\n"
     ]
    },
    {
     "name": "stdout",
     "output_type": "stream",
     "text": [
      "Episode 69, duration 198, epsilon 0.0516 done in 0.380230188369751\n"
     ]
    },
    {
     "name": "stdout",
     "output_type": "stream",
     "text": [
      "Episode 70, duration 192, epsilon 0.0513 done in 0.36708855628967285\n"
     ]
    },
    {
     "name": "stdout",
     "output_type": "stream",
     "text": [
      "Episode 71, duration 169, epsilon 0.0511 done in 0.32491540908813477\n"
     ]
    },
    {
     "name": "stdout",
     "output_type": "stream",
     "text": [
      "Episode 72, duration 200, epsilon 0.0509 done in 0.37996888160705566\n"
     ]
    },
    {
     "name": "stdout",
     "output_type": "stream",
     "text": [
      "Episode 73, duration 200, epsilon 0.0507 done in 0.3820931911468506\n"
     ]
    },
    {
     "name": "stdout",
     "output_type": "stream",
     "text": [
      "Episode 74, duration 200, epsilon 0.0506 done in 0.3837888240814209\n"
     ]
    },
    {
     "name": "stdout",
     "output_type": "stream",
     "text": [
      "Episode 75, duration 200, epsilon 0.0505 done in 0.38320207595825195\n"
     ]
    },
    {
     "name": "stdout",
     "output_type": "stream",
     "text": [
      "Episode 76, duration 166, epsilon 0.0504 done in 0.31711483001708984\n"
     ]
    },
    {
     "name": "stdout",
     "output_type": "stream",
     "text": [
      "Episode 77, duration 200, epsilon 0.0503 done in 0.38184332847595215\n"
     ]
    },
    {
     "name": "stdout",
     "output_type": "stream",
     "text": [
      "Episode 78, duration 198, epsilon 0.0503 done in 0.38053226470947266\n"
     ]
    },
    {
     "name": "stdout",
     "output_type": "stream",
     "text": [
      "Episode 79, duration 200, epsilon 0.0502 done in 0.3853156566619873\n"
     ]
    },
    {
     "name": "stdout",
     "output_type": "stream",
     "text": [
      "Episode 80, duration 173, epsilon 0.0502 done in 0.3328063488006592\n"
     ]
    },
    {
     "name": "stdout",
     "output_type": "stream",
     "text": [
      "Episode 81, duration 158, epsilon 0.0502 done in 0.3044438362121582\n"
     ]
    },
    {
     "name": "stdout",
     "output_type": "stream",
     "text": [
      "Episode 82, duration 125, epsilon 0.0501 done in 0.24444937705993652\n"
     ]
    },
    {
     "name": "stdout",
     "output_type": "stream",
     "text": [
      "Episode 83, duration 200, epsilon 0.0501 done in 0.38819026947021484\n"
     ]
    },
    {
     "name": "stdout",
     "output_type": "stream",
     "text": [
      "Episode 84, duration 191, epsilon 0.0501 done in 0.3688945770263672\n"
     ]
    },
    {
     "name": "stdout",
     "output_type": "stream",
     "text": [
      "Episode 85, duration 200, epsilon 0.0501 done in 0.390458345413208\n"
     ]
    },
    {
     "name": "stdout",
     "output_type": "stream",
     "text": [
      "Episode 86, duration 200, epsilon 0.0501 done in 0.3853132724761963\n"
     ]
    },
    {
     "name": "stdout",
     "output_type": "stream",
     "text": [
      "Episode 87, duration 200, epsilon 0.0501 done in 0.3821296691894531\n"
     ]
    },
    {
     "name": "stdout",
     "output_type": "stream",
     "text": [
      "Episode 88, duration 177, epsilon 0.0500 done in 0.33750152587890625\n"
     ]
    },
    {
     "name": "stdout",
     "output_type": "stream",
     "text": [
      "Episode 89, duration 139, epsilon 0.0500 done in 0.26654887199401855\n"
     ]
    },
    {
     "name": "stdout",
     "output_type": "stream",
     "text": [
      "Episode 90, duration 168, epsilon 0.0500 done in 0.3221626281738281\n"
     ]
    },
    {
     "name": "stdout",
     "output_type": "stream",
     "text": [
      "Episode 91, duration 134, epsilon 0.0500 done in 0.2555668354034424\n"
     ]
    },
    {
     "name": "stdout",
     "output_type": "stream",
     "text": [
      "Episode 92, duration 200, epsilon 0.0500 done in 0.38726353645324707\n"
     ]
    },
    {
     "name": "stdout",
     "output_type": "stream",
     "text": [
      "Episode 93, duration 200, epsilon 0.0500 done in 0.38982319831848145\n"
     ]
    },
    {
     "name": "stdout",
     "output_type": "stream",
     "text": [
      "Episode 94, duration 200, epsilon 0.0500 done in 0.3906879425048828\n"
     ]
    },
    {
     "name": "stdout",
     "output_type": "stream",
     "text": [
      "Episode 95, duration 200, epsilon 0.0500 done in 0.3895263671875\n"
     ]
    },
    {
     "name": "stdout",
     "output_type": "stream",
     "text": [
      "Episode 96, duration 138, epsilon 0.0500 done in 0.26951098442077637\n"
     ]
    },
    {
     "name": "stdout",
     "output_type": "stream",
     "text": [
      "Episode 97, duration 196, epsilon 0.0500 done in 0.3836839199066162\n"
     ]
    },
    {
     "name": "stdout",
     "output_type": "stream",
     "text": [
      "Episode 98, duration 200, epsilon 0.0500 done in 0.38889575004577637\n"
     ]
    },
    {
     "name": "stdout",
     "output_type": "stream",
     "text": [
      "Episode 99, duration 200, epsilon 0.0500 done in 0.3820459842681885\n"
     ]
    },
    {
     "name": "stdout",
     "output_type": "stream",
     "text": [
      "Episode 100, duration 172, epsilon 0.0500 done in 0.3291196823120117\n"
     ]
    },
    {
     "name": "stdout",
     "output_type": "stream",
     "text": [
      "Episode 101, duration 188, epsilon 0.0500 done in 0.35816049575805664\n"
     ]
    },
    {
     "name": "stdout",
     "output_type": "stream",
     "text": [
      "Episode 102, duration 200, epsilon 0.0500 done in 0.3847804069519043\n"
     ]
    },
    {
     "name": "stdout",
     "output_type": "stream",
     "text": [
      "Episode 103, duration 200, epsilon 0.0500 done in 0.38524508476257324\n"
     ]
    },
    {
     "name": "stdout",
     "output_type": "stream",
     "text": [
      "Episode 104, duration 167, epsilon 0.0500 done in 0.3230247497558594\n"
     ]
    },
    {
     "name": "stdout",
     "output_type": "stream",
     "text": [
      "Episode 105, duration 175, epsilon 0.0500 done in 0.33301639556884766\n"
     ]
    },
    {
     "name": "stdout",
     "output_type": "stream",
     "text": [
      "Episode 106, duration 177, epsilon 0.0500 done in 0.3395555019378662\n"
     ]
    },
    {
     "name": "stdout",
     "output_type": "stream",
     "text": [
      "Episode 107, duration 200, epsilon 0.0500 done in 0.38375353813171387\n"
     ]
    },
    {
     "name": "stdout",
     "output_type": "stream",
     "text": [
      "Episode 108, duration 200, epsilon 0.0500 done in 0.38458752632141113\n"
     ]
    },
    {
     "name": "stdout",
     "output_type": "stream",
     "text": [
      "Episode 109, duration 150, epsilon 0.0500 done in 0.28746604919433594\n"
     ]
    },
    {
     "name": "stdout",
     "output_type": "stream",
     "text": [
      "Episode 110, duration 155, epsilon 0.0500 done in 0.29691314697265625\n"
     ]
    },
    {
     "name": "stdout",
     "output_type": "stream",
     "text": [
      "Episode 111, duration 185, epsilon 0.0500 done in 0.3539576530456543\n"
     ]
    },
    {
     "name": "stdout",
     "output_type": "stream",
     "text": [
      "Episode 112, duration 200, epsilon 0.0500 done in 0.38202381134033203\n"
     ]
    },
    {
     "name": "stdout",
     "output_type": "stream",
     "text": [
      "Episode 113, duration 200, epsilon 0.0500 done in 0.38637256622314453\n"
     ]
    },
    {
     "name": "stdout",
     "output_type": "stream",
     "text": [
      "Episode 114, duration 199, epsilon 0.0500 done in 0.3841431140899658\n"
     ]
    },
    {
     "name": "stdout",
     "output_type": "stream",
     "text": [
      "Episode 115, duration 200, epsilon 0.0500 done in 0.3852872848510742\n"
     ]
    },
    {
     "name": "stdout",
     "output_type": "stream",
     "text": [
      "Episode 116, duration 200, epsilon 0.0500 done in 0.385545015335083\n"
     ]
    },
    {
     "name": "stdout",
     "output_type": "stream",
     "text": [
      "Episode 117, duration 200, epsilon 0.0500 done in 0.3874051570892334\n"
     ]
    },
    {
     "name": "stdout",
     "output_type": "stream",
     "text": [
      "Episode 118, duration 200, epsilon 0.0500 done in 0.3850572109222412\n"
     ]
    },
    {
     "name": "stdout",
     "output_type": "stream",
     "text": [
      "Episode 119, duration 200, epsilon 0.0500 done in 0.3863818645477295\n"
     ]
    },
    {
     "name": "stdout",
     "output_type": "stream",
     "text": [
      "Episode 120, duration 200, epsilon 0.0500 done in 0.3841242790222168\n"
     ]
    },
    {
     "name": "stdout",
     "output_type": "stream",
     "text": [
      "Episode 121, duration 183, epsilon 0.0500 done in 0.376631498336792\n"
     ]
    },
    {
     "name": "stdout",
     "output_type": "stream",
     "text": [
      "Episode 122, duration 171, epsilon 0.0500 done in 0.32819557189941406\n"
     ]
    },
    {
     "name": "stdout",
     "output_type": "stream",
     "text": [
      "Episode 123, duration 162, epsilon 0.0500 done in 0.31400156021118164\n"
     ]
    },
    {
     "name": "stdout",
     "output_type": "stream",
     "text": [
      "Episode 124, duration 175, epsilon 0.0500 done in 0.33802032470703125\n"
     ]
    },
    {
     "name": "stdout",
     "output_type": "stream",
     "text": [
      "Episode 125, duration 200, epsilon 0.0500 done in 0.3831450939178467\n"
     ]
    },
    {
     "name": "stdout",
     "output_type": "stream",
     "text": [
      "Episode 126, duration 200, epsilon 0.0500 done in 0.385251522064209\n"
     ]
    },
    {
     "name": "stdout",
     "output_type": "stream",
     "text": [
      "Episode 127, duration 200, epsilon 0.0500 done in 0.38918638229370117\n"
     ]
    },
    {
     "name": "stdout",
     "output_type": "stream",
     "text": [
      "Episode 128, duration 200, epsilon 0.0500 done in 0.3941948413848877\n"
     ]
    },
    {
     "name": "stdout",
     "output_type": "stream",
     "text": [
      "Episode 129, duration 200, epsilon 0.0500 done in 0.39388227462768555\n"
     ]
    },
    {
     "name": "stdout",
     "output_type": "stream",
     "text": [
      "Episode 130, duration 200, epsilon 0.0500 done in 0.3911886215209961\n"
     ]
    },
    {
     "name": "stdout",
     "output_type": "stream",
     "text": [
      "Episode 131, duration 173, epsilon 0.0500 done in 0.3413839340209961\n"
     ]
    },
    {
     "name": "stdout",
     "output_type": "stream",
     "text": [
      "Episode 132, duration 200, epsilon 0.0500 done in 0.39034485816955566\n"
     ]
    },
    {
     "name": "stdout",
     "output_type": "stream",
     "text": [
      "Episode 133, duration 200, epsilon 0.0500 done in 0.3805687427520752\n"
     ]
    },
    {
     "name": "stdout",
     "output_type": "stream",
     "text": [
      "Episode 134, duration 200, epsilon 0.0500 done in 0.3852267265319824\n"
     ]
    },
    {
     "name": "stdout",
     "output_type": "stream",
     "text": [
      "Episode 135, duration 195, epsilon 0.0500 done in 0.37619733810424805\n"
     ]
    },
    {
     "name": "stdout",
     "output_type": "stream",
     "text": [
      "Episode 136, duration 200, epsilon 0.0500 done in 0.38608288764953613\n"
     ]
    },
    {
     "name": "stdout",
     "output_type": "stream",
     "text": [
      "Episode 137, duration 200, epsilon 0.0500 done in 0.3868584632873535\n"
     ]
    },
    {
     "name": "stdout",
     "output_type": "stream",
     "text": [
      "Episode 138, duration 200, epsilon 0.0500 done in 0.3930373191833496\n"
     ]
    },
    {
     "name": "stdout",
     "output_type": "stream",
     "text": [
      "Episode 139, duration 200, epsilon 0.0500 done in 0.39281225204467773\n"
     ]
    },
    {
     "name": "stdout",
     "output_type": "stream",
     "text": [
      "Episode 140, duration 200, epsilon 0.0500 done in 0.39017486572265625\n"
     ]
    },
    {
     "name": "stdout",
     "output_type": "stream",
     "text": [
      "Episode 141, duration 200, epsilon 0.0500 done in 0.3909025192260742\n"
     ]
    },
    {
     "name": "stdout",
     "output_type": "stream",
     "text": [
      "Episode 142, duration 200, epsilon 0.0500 done in 0.39044713973999023\n"
     ]
    },
    {
     "name": "stdout",
     "output_type": "stream",
     "text": [
      "Episode 143, duration 200, epsilon 0.0500 done in 0.38634371757507324\n"
     ]
    },
    {
     "name": "stdout",
     "output_type": "stream",
     "text": [
      "Episode 144, duration 200, epsilon 0.0500 done in 0.3867206573486328\n"
     ]
    },
    {
     "name": "stdout",
     "output_type": "stream",
     "text": [
      "Episode 145, duration 200, epsilon 0.0500 done in 0.3860793113708496\n"
     ]
    },
    {
     "name": "stdout",
     "output_type": "stream",
     "text": [
      "Episode 146, duration 200, epsilon 0.0500 done in 0.392336368560791\n"
     ]
    },
    {
     "name": "stdout",
     "output_type": "stream",
     "text": [
      "Episode 147, duration 200, epsilon 0.0500 done in 0.39420151710510254\n",
      "Episode 148, duration 97, epsilon 0.0500 done in 0.18929290771484375\n"
     ]
    },
    {
     "name": "stdout",
     "output_type": "stream",
     "text": [
      "Episode 149, duration 121, epsilon 0.0500 done in 0.23312854766845703\n"
     ]
    },
    {
     "name": "stdout",
     "output_type": "stream",
     "text": [
      "Episode 150, duration 200, epsilon 0.0500 done in 0.3852701187133789\n"
     ]
    },
    {
     "name": "stdout",
     "output_type": "stream",
     "text": [
      "Episode 151, duration 200, epsilon 0.0500 done in 0.39148497581481934\n"
     ]
    },
    {
     "name": "stdout",
     "output_type": "stream",
     "text": [
      "Episode 152, duration 200, epsilon 0.0500 done in 0.39302515983581543\n"
     ]
    },
    {
     "name": "stdout",
     "output_type": "stream",
     "text": [
      "Episode 153, duration 200, epsilon 0.0500 done in 0.39451169967651367\n"
     ]
    },
    {
     "name": "stdout",
     "output_type": "stream",
     "text": [
      "Episode 154, duration 200, epsilon 0.0500 done in 0.3950817584991455\n"
     ]
    },
    {
     "name": "stdout",
     "output_type": "stream",
     "text": [
      "Episode 155, duration 200, epsilon 0.0500 done in 0.39293527603149414\n"
     ]
    },
    {
     "name": "stdout",
     "output_type": "stream",
     "text": [
      "Episode 156, duration 200, epsilon 0.0500 done in 0.38477063179016113\n"
     ]
    },
    {
     "name": "stdout",
     "output_type": "stream",
     "text": [
      "Episode 157, duration 200, epsilon 0.0500 done in 0.38483119010925293\n"
     ]
    },
    {
     "name": "stdout",
     "output_type": "stream",
     "text": [
      "Episode 158, duration 200, epsilon 0.0500 done in 0.4198131561279297\n"
     ]
    },
    {
     "name": "stdout",
     "output_type": "stream",
     "text": [
      "Episode 159, duration 200, epsilon 0.0500 done in 0.38835740089416504\n"
     ]
    },
    {
     "name": "stdout",
     "output_type": "stream",
     "text": [
      "Episode 160, duration 200, epsilon 0.0500 done in 0.3892030715942383\n"
     ]
    },
    {
     "name": "stdout",
     "output_type": "stream",
     "text": [
      "Episode 161, duration 200, epsilon 0.0500 done in 0.3873608112335205\n"
     ]
    },
    {
     "name": "stdout",
     "output_type": "stream",
     "text": [
      "Episode 162, duration 200, epsilon 0.0500 done in 0.38774633407592773\n"
     ]
    },
    {
     "name": "stdout",
     "output_type": "stream",
     "text": [
      "Episode 163, duration 200, epsilon 0.0500 done in 0.3914494514465332\n"
     ]
    },
    {
     "name": "stdout",
     "output_type": "stream",
     "text": [
      "Episode 164, duration 200, epsilon 0.0500 done in 0.397411584854126\n"
     ]
    },
    {
     "name": "stdout",
     "output_type": "stream",
     "text": [
      "Episode 165, duration 200, epsilon 0.0500 done in 0.3895390033721924\n"
     ]
    },
    {
     "name": "stdout",
     "output_type": "stream",
     "text": [
      "Episode 166, duration 200, epsilon 0.0500 done in 0.390012264251709\n"
     ]
    },
    {
     "name": "stdout",
     "output_type": "stream",
     "text": [
      "Episode 167, duration 200, epsilon 0.0500 done in 0.3915238380432129\n"
     ]
    },
    {
     "name": "stdout",
     "output_type": "stream",
     "text": [
      "Episode 168, duration 200, epsilon 0.0500 done in 0.3908569812774658\n"
     ]
    },
    {
     "name": "stdout",
     "output_type": "stream",
     "text": [
      "Episode 169, duration 200, epsilon 0.0500 done in 0.38950133323669434\n"
     ]
    },
    {
     "name": "stdout",
     "output_type": "stream",
     "text": [
      "Episode 170, duration 200, epsilon 0.0500 done in 0.387218713760376\n"
     ]
    },
    {
     "name": "stdout",
     "output_type": "stream",
     "text": [
      "Episode 171, duration 200, epsilon 0.0500 done in 0.3891184329986572\n"
     ]
    },
    {
     "name": "stdout",
     "output_type": "stream",
     "text": [
      "Episode 172, duration 200, epsilon 0.0500 done in 0.389218807220459\n"
     ]
    },
    {
     "name": "stdout",
     "output_type": "stream",
     "text": [
      "Episode 173, duration 200, epsilon 0.0500 done in 0.388521671295166\n"
     ]
    },
    {
     "name": "stdout",
     "output_type": "stream",
     "text": [
      "Episode 174, duration 200, epsilon 0.0500 done in 0.3918616771697998\n"
     ]
    },
    {
     "name": "stdout",
     "output_type": "stream",
     "text": [
      "Episode 175, duration 200, epsilon 0.0500 done in 0.3959934711456299\n"
     ]
    },
    {
     "name": "stdout",
     "output_type": "stream",
     "text": [
      "Episode 176, duration 161, epsilon 0.0500 done in 0.3165163993835449\n"
     ]
    },
    {
     "name": "stdout",
     "output_type": "stream",
     "text": [
      "Episode 177, duration 183, epsilon 0.0500 done in 0.35698580741882324\n"
     ]
    },
    {
     "name": "stdout",
     "output_type": "stream",
     "text": [
      "Episode 178, duration 200, epsilon 0.0500 done in 0.38718175888061523\n"
     ]
    },
    {
     "name": "stdout",
     "output_type": "stream",
     "text": [
      "Episode 179, duration 186, epsilon 0.0500 done in 0.3609194755554199\n"
     ]
    },
    {
     "name": "stdout",
     "output_type": "stream",
     "text": [
      "Episode 180, duration 200, epsilon 0.0500 done in 0.39847683906555176\n"
     ]
    },
    {
     "name": "stdout",
     "output_type": "stream",
     "text": [
      "Episode 181, duration 200, epsilon 0.0500 done in 0.3897705078125\n"
     ]
    },
    {
     "name": "stdout",
     "output_type": "stream",
     "text": [
      "Episode 182, duration 200, epsilon 0.0500 done in 0.3804938793182373\n"
     ]
    },
    {
     "name": "stdout",
     "output_type": "stream",
     "text": [
      "Episode 183, duration 184, epsilon 0.0500 done in 0.3559856414794922\n"
     ]
    },
    {
     "name": "stdout",
     "output_type": "stream",
     "text": [
      "Episode 184, duration 157, epsilon 0.0500 done in 0.30185842514038086\n"
     ]
    },
    {
     "name": "stdout",
     "output_type": "stream",
     "text": [
      "Episode 185, duration 180, epsilon 0.0500 done in 0.3464791774749756\n"
     ]
    },
    {
     "name": "stdout",
     "output_type": "stream",
     "text": [
      "Episode 186, duration 183, epsilon 0.0500 done in 0.3503403663635254\n"
     ]
    },
    {
     "name": "stdout",
     "output_type": "stream",
     "text": [
      "Episode 187, duration 164, epsilon 0.0500 done in 0.31424927711486816\n"
     ]
    },
    {
     "name": "stdout",
     "output_type": "stream",
     "text": [
      "Episode 188, duration 185, epsilon 0.0500 done in 0.35315728187561035\n"
     ]
    },
    {
     "name": "stdout",
     "output_type": "stream",
     "text": [
      "Episode 189, duration 187, epsilon 0.0500 done in 0.36301493644714355\n"
     ]
    },
    {
     "name": "stdout",
     "output_type": "stream",
     "text": [
      "Episode 190, duration 167, epsilon 0.0500 done in 0.32218360900878906\n"
     ]
    },
    {
     "name": "stdout",
     "output_type": "stream",
     "text": [
      "Episode 191, duration 179, epsilon 0.0500 done in 0.3466200828552246\n"
     ]
    },
    {
     "name": "stdout",
     "output_type": "stream",
     "text": [
      "Episode 192, duration 180, epsilon 0.0500 done in 0.34498095512390137\n"
     ]
    },
    {
     "name": "stdout",
     "output_type": "stream",
     "text": [
      "Episode 193, duration 154, epsilon 0.0500 done in 0.29302310943603516\n"
     ]
    },
    {
     "name": "stdout",
     "output_type": "stream",
     "text": [
      "Episode 194, duration 198, epsilon 0.0500 done in 0.3739199638366699\n"
     ]
    },
    {
     "name": "stdout",
     "output_type": "stream",
     "text": [
      "Episode 195, duration 190, epsilon 0.0500 done in 0.3635556697845459\n"
     ]
    },
    {
     "name": "stdout",
     "output_type": "stream",
     "text": [
      "Episode 196, duration 197, epsilon 0.0500 done in 0.38211774826049805\n"
     ]
    },
    {
     "name": "stdout",
     "output_type": "stream",
     "text": [
      "Episode 197, duration 176, epsilon 0.0500 done in 0.33568406105041504\n"
     ]
    },
    {
     "name": "stdout",
     "output_type": "stream",
     "text": [
      "Episode 198, duration 200, epsilon 0.0500 done in 0.3844780921936035\n"
     ]
    },
    {
     "name": "stdout",
     "output_type": "stream",
     "text": [
      "Episode 199, duration 191, epsilon 0.0500 done in 0.36528801918029785\n"
     ]
    },
    {
     "name": "stdout",
     "output_type": "stream",
     "text": [
      "Episode 200, duration 200, epsilon 0.0500 done in 0.3844931125640869\n"
     ]
    },
    {
     "name": "stdout",
     "output_type": "stream",
     "text": [
      "Episode 201, duration 196, epsilon 0.0500 done in 0.37690305709838867\n"
     ]
    },
    {
     "name": "stdout",
     "output_type": "stream",
     "text": [
      "Episode 202, duration 192, epsilon 0.0500 done in 0.36079931259155273\n"
     ]
    },
    {
     "name": "stdout",
     "output_type": "stream",
     "text": [
      "Episode 203, duration 200, epsilon 0.0500 done in 0.38136982917785645\n"
     ]
    },
    {
     "name": "stdout",
     "output_type": "stream",
     "text": [
      "Episode 204, duration 200, epsilon 0.0500 done in 0.3799614906311035\n"
     ]
    },
    {
     "name": "stdout",
     "output_type": "stream",
     "text": [
      "Episode 205, duration 200, epsilon 0.0500 done in 0.38332271575927734\n"
     ]
    },
    {
     "name": "stdout",
     "output_type": "stream",
     "text": [
      "Episode 206, duration 200, epsilon 0.0500 done in 0.38199353218078613\n"
     ]
    },
    {
     "name": "stdout",
     "output_type": "stream",
     "text": [
      "Episode 207, duration 200, epsilon 0.0500 done in 0.3779923915863037\n"
     ]
    },
    {
     "name": "stdout",
     "output_type": "stream",
     "text": [
      "Episode 208, duration 200, epsilon 0.0500 done in 0.3795664310455322\n"
     ]
    },
    {
     "name": "stdout",
     "output_type": "stream",
     "text": [
      "Episode 209, duration 200, epsilon 0.0500 done in 0.3854529857635498\n"
     ]
    },
    {
     "name": "stdout",
     "output_type": "stream",
     "text": [
      "Episode 210, duration 200, epsilon 0.0500 done in 0.38541460037231445\n"
     ]
    },
    {
     "name": "stdout",
     "output_type": "stream",
     "text": [
      "Episode 211, duration 200, epsilon 0.0500 done in 0.3877737522125244\n"
     ]
    },
    {
     "name": "stdout",
     "output_type": "stream",
     "text": [
      "Episode 212, duration 200, epsilon 0.0500 done in 0.3894350528717041\n"
     ]
    },
    {
     "name": "stdout",
     "output_type": "stream",
     "text": [
      "Episode 213, duration 200, epsilon 0.0500 done in 0.38631439208984375\n"
     ]
    },
    {
     "name": "stdout",
     "output_type": "stream",
     "text": [
      "Episode 214, duration 196, epsilon 0.0500 done in 0.3709261417388916\n"
     ]
    },
    {
     "name": "stdout",
     "output_type": "stream",
     "text": [
      "Episode 215, duration 165, epsilon 0.0500 done in 0.3144803047180176\n"
     ]
    },
    {
     "name": "stdout",
     "output_type": "stream",
     "text": [
      "Episode 216, duration 200, epsilon 0.0500 done in 0.38432812690734863\n"
     ]
    },
    {
     "name": "stdout",
     "output_type": "stream",
     "text": [
      "Episode 217, duration 163, epsilon 0.0500 done in 0.3067433834075928\n"
     ]
    },
    {
     "name": "stdout",
     "output_type": "stream",
     "text": [
      "Episode 218, duration 175, epsilon 0.0500 done in 0.3331446647644043\n"
     ]
    },
    {
     "name": "stdout",
     "output_type": "stream",
     "text": [
      "Episode 219, duration 200, epsilon 0.0500 done in 0.3797111511230469\n"
     ]
    },
    {
     "name": "stdout",
     "output_type": "stream",
     "text": [
      "Episode 220, duration 200, epsilon 0.0500 done in 0.3830595016479492\n"
     ]
    },
    {
     "name": "stdout",
     "output_type": "stream",
     "text": [
      "Episode 221, duration 200, epsilon 0.0500 done in 0.38390588760375977\n"
     ]
    },
    {
     "name": "stdout",
     "output_type": "stream",
     "text": [
      "Episode 222, duration 200, epsilon 0.0500 done in 0.3807399272918701\n"
     ]
    },
    {
     "name": "stdout",
     "output_type": "stream",
     "text": [
      "Episode 223, duration 200, epsilon 0.0500 done in 0.3896608352661133\n"
     ]
    },
    {
     "name": "stdout",
     "output_type": "stream",
     "text": [
      "Episode 224, duration 200, epsilon 0.0500 done in 0.39298486709594727\n"
     ]
    },
    {
     "name": "stdout",
     "output_type": "stream",
     "text": [
      "Episode 225, duration 200, epsilon 0.0500 done in 0.39144277572631836\n"
     ]
    },
    {
     "name": "stdout",
     "output_type": "stream",
     "text": [
      "Episode 226, duration 200, epsilon 0.0500 done in 0.39231204986572266\n"
     ]
    },
    {
     "name": "stdout",
     "output_type": "stream",
     "text": [
      "Episode 227, duration 200, epsilon 0.0500 done in 0.38721370697021484\n"
     ]
    },
    {
     "name": "stdout",
     "output_type": "stream",
     "text": [
      "Episode 228, duration 200, epsilon 0.0500 done in 0.39058923721313477\n"
     ]
    },
    {
     "name": "stdout",
     "output_type": "stream",
     "text": [
      "Episode 229, duration 200, epsilon 0.0500 done in 0.38837599754333496\n"
     ]
    },
    {
     "name": "stdout",
     "output_type": "stream",
     "text": [
      "Episode 230, duration 200, epsilon 0.0500 done in 0.38698339462280273\n"
     ]
    },
    {
     "name": "stdout",
     "output_type": "stream",
     "text": [
      "Episode 231, duration 138, epsilon 0.0500 done in 0.26784777641296387\n"
     ]
    },
    {
     "name": "stdout",
     "output_type": "stream",
     "text": [
      "Episode 232, duration 200, epsilon 0.0500 done in 0.3849947452545166\n"
     ]
    },
    {
     "name": "stdout",
     "output_type": "stream",
     "text": [
      "Episode 233, duration 200, epsilon 0.0500 done in 0.3861227035522461\n"
     ]
    },
    {
     "name": "stdout",
     "output_type": "stream",
     "text": [
      "Episode 234, duration 144, epsilon 0.0500 done in 0.27577853202819824\n"
     ]
    },
    {
     "name": "stdout",
     "output_type": "stream",
     "text": [
      "Episode 235, duration 200, epsilon 0.0500 done in 0.3782308101654053\n"
     ]
    },
    {
     "name": "stdout",
     "output_type": "stream",
     "text": [
      "Episode 236, duration 200, epsilon 0.0500 done in 0.3834395408630371\n"
     ]
    },
    {
     "name": "stdout",
     "output_type": "stream",
     "text": [
      "Episode 237, duration 121, epsilon 0.0500 done in 0.23222589492797852\n"
     ]
    },
    {
     "name": "stdout",
     "output_type": "stream",
     "text": [
      "Episode 238, duration 110, epsilon 0.0500 done in 0.2086772918701172\n"
     ]
    },
    {
     "name": "stdout",
     "output_type": "stream",
     "text": [
      "Episode 239, duration 139, epsilon 0.0500 done in 0.2625553607940674\n"
     ]
    },
    {
     "name": "stdout",
     "output_type": "stream",
     "text": [
      "Episode 240, duration 119, epsilon 0.0500 done in 0.2230818271636963\n"
     ]
    },
    {
     "name": "stdout",
     "output_type": "stream",
     "text": [
      "Episode 241, duration 133, epsilon 0.0500 done in 0.2537405490875244\n"
     ]
    },
    {
     "name": "stdout",
     "output_type": "stream",
     "text": [
      "Episode 242, duration 142, epsilon 0.0500 done in 0.27371716499328613\n"
     ]
    },
    {
     "name": "stdout",
     "output_type": "stream",
     "text": [
      "Episode 243, duration 124, epsilon 0.0500 done in 0.23917317390441895\n"
     ]
    },
    {
     "name": "stdout",
     "output_type": "stream",
     "text": [
      "Episode 244, duration 129, epsilon 0.0500 done in 0.24872469902038574\n"
     ]
    },
    {
     "name": "stdout",
     "output_type": "stream",
     "text": [
      "Episode 245, duration 120, epsilon 0.0500 done in 0.2313532829284668\n"
     ]
    },
    {
     "name": "stdout",
     "output_type": "stream",
     "text": [
      "Episode 246, duration 200, epsilon 0.0500 done in 0.3811676502227783\n"
     ]
    },
    {
     "name": "stdout",
     "output_type": "stream",
     "text": [
      "Episode 247, duration 143, epsilon 0.0500 done in 0.272219181060791\n"
     ]
    },
    {
     "name": "stdout",
     "output_type": "stream",
     "text": [
      "Episode 248, duration 131, epsilon 0.0500 done in 0.24968290328979492\n"
     ]
    },
    {
     "name": "stdout",
     "output_type": "stream",
     "text": [
      "Episode 249, duration 118, epsilon 0.0500 done in 0.23028898239135742\n"
     ]
    },
    {
     "name": "stdout",
     "output_type": "stream",
     "text": [
      "Episode 250, duration 130, epsilon 0.0500 done in 0.24931979179382324\n"
     ]
    }
   ],
   "source": [
    "# Solution:\n",
    "# Hyperparameters\n",
    "config = {}\n",
    "config['nb_hidden'] = 128 # number of hidden neurons in each layer\n",
    "config['batch_size'] = 128 # number of transitions sampled from the replay buffer\n",
    "config['gamma'] = 0.99 # discount factor\n",
    "config['eps_start'] = 0.9 # starting value of epsilon\n",
    "config['eps_end'] = 0.05 # final value of epsilon\n",
    "config['eps_decay'] = 1000 # rate of exponential decay of epsilon, higher means a slower decay\n",
    "config['learning_rate'] = 1e-3 # learning rate of the optimizer\n",
    "config['target_update_period'] = 120 # update period (in steps) of the target network\n",
    "config['buffer_limit'] = 10000 # maximum number of transitions in the replay buffer\n",
    "\n",
    "# Create the environment\n",
    "env = gym.make('CartPole-v0')\n",
    "\n",
    "# Create the agent\n",
    "agent = DQNAgent(env, config)\n",
    "\n",
    "# Train the agent\n",
    "agent.train(num_episodes=250)\n"
   ]
  },
  {
   "cell_type": "code",
   "execution_count": 20,
   "metadata": {
    "execution": {
     "iopub.execute_input": "2025-10-09T09:27:38.520787Z",
     "iopub.status.busy": "2025-10-09T09:27:38.520430Z",
     "iopub.status.idle": "2025-10-09T09:27:38.779066Z",
     "shell.execute_reply": "2025-10-09T09:27:38.778453Z"
    }
   },
   "outputs": [
    {
     "data": {
      "text/plain": [
       "Text(0, 0.5, 'Returns')"
      ]
     },
     "execution_count": 20,
     "metadata": {},
     "output_type": "execute_result"
    },
    {
     "data": {
      "image/png": "[encoded data removed]",
      "text/plain": [
       "<Figure size 1000x600 with 1 Axes>"
      ]
     },
     "metadata": {},
     "output_type": "display_data"
    }
   ],
   "source": [
    "# Solution:\n",
    "plt.figure(figsize=(10, 6))\n",
    "plt.plot(agent.episode_durations)\n",
    "plt.xlabel(\"Episodes\")\n",
    "plt.ylabel(\"Returns\")"
   ]
  },
  {
   "cell_type": "markdown",
   "metadata": {},
   "source": [
    "**A:** Training is very slow and unstable. Different runs lead to very different convergence profiles. There is much to improve..."
   ]
  }
 ],
 "metadata": {
  "kernelspec": {
   "display_name": "deeprl",
   "language": "python",
   "name": "python3"
  },
  "language_info": {
   "codemirror_mode": {
    "name": "ipython",
    "version": 3
   },
   "file_extension": ".py",
   "mimetype": "text/x-python",
   "name": "python",
   "nbconvert_exporter": "python",
   "pygments_lexer": "ipython3",
   "version": "3.12.11"
  }
 },
 "nbformat": 4,
 "nbformat_minor": 2
}
